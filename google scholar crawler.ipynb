{
 "cells": [
  {
   "cell_type": "markdown",
   "metadata": {},
   "source": [
    "## Google Scholar Crawler\n",
    "- **DISCLAIMER**: usually Google block the execturion of this script after retrieving between 400 and 500 entries (40 and 50 pages).\n",
    "- **TODO**: add selenium and add a manual step for opening a url and showing that we are NOT a robot"
   ]
  },
  {
   "cell_type": "code",
   "execution_count": null,
   "metadata": {},
   "outputs": [],
   "source": [
    "keyword_raw = \"honeypot\""
   ]
  },
  {
   "cell_type": "code",
   "execution_count": null,
   "metadata": {},
   "outputs": [],
   "source": [
    "import cfscrape\n",
    "from lxml import etree\n",
    "import pandas as pd\n",
    "import urllib\n",
    "import re\n",
    "from random import randint\n",
    "from time import sleep"
   ]
  },
  {
   "cell_type": "code",
   "execution_count": null,
   "metadata": {},
   "outputs": [],
   "source": [
    "header = {\n",
    "    'Accept': 'text/html,application/xhtml+xml,application/xml;q=0.9',\n",
    "    'Accept-Encoding': 'gzip, deflate, sdch',\n",
    "    'Accept-Language' : 'nl-NL,nl;q=0.8,en-US;q=0.6,en;q=0.4',\n",
    "    'Cache-Control' : 'max-age=0',\n",
    "    'Connection': 'keep-alive',\n",
    "    'User-Agent': 'Mozilla/5.0 (X11; Linux x86_64) AppleWebKit/537.36 (KHTML, like Gecko) Chrome/43.0.2357.81 Safari/537.36'\n",
    "    }"
   ]
  },
  {
   "cell_type": "code",
   "execution_count": null,
   "metadata": {},
   "outputs": [],
   "source": [
    "page = 1 \n",
    "df = pd.DataFrame()\n",
    "    \n",
    "while True: \n",
    "    start_page = (page - 1) * 10\n",
    "    #################################################################################\n",
    "    keyword = urllib.parse.quote_plus(\"\\\"\"+keyword_raw+\"\\\"\")\n",
    "    url=\"https://scholar.google.nl/scholar?start=\"+str(start_page)+\"&q=\"+keyword+\"&hl=nl&as_sdt=0,5\"\n",
    "    print(page, url)\n",
    "    #################################################################################\n",
    "    scraper = cfscrape.create_scraper()\n",
    "    scraped_html=scraper.get(url,headers=header).content\n",
    "    # print(scraped_html.decode(\"utf-8\") )\n",
    "    html = etree.HTML(scraped_html)\n",
    "    #################################################################################    \n",
    "    elements = html.xpath(\"//div[@class='gs_ri']\")\n",
    "    #################################################################################\n",
    "    if len(elements) == 0:\n",
    "        print(\"The code stopped for some reason!! Possibly Google blocked us!\")\n",
    "        print(\"\\\"\"+(''.join(html.xpath(\"//div[@id='infoDiv']/text()\")))+\"\\\"\")\n",
    "        break\n",
    "    #################################################################################\n",
    "    for element in elements:\n",
    "        #################################################################################\n",
    "        if len(element.xpath(\"h3[@class='gs_rt']/a/text()\")) > 1:\n",
    "            title = (keyword_raw+\" \").join(element.xpath(\"h3[@class='gs_rt']/a/text()\"))\n",
    "        elif len(element.xpath(\"h3[@class='gs_rt']/a/text()\")) == 1:\n",
    "            title = element.xpath(\"h3[@class='gs_rt']/a/text()\")[0]\n",
    "        else:\n",
    "            title = \"\"\n",
    "        #################################################################################    \n",
    "        link  = ''.join(element.xpath(\"h3[@class='gs_rt']/a/@href\"))\n",
    "        #################################################################################    \n",
    "        abstract = ''.join(element.xpath(\"div[@class='gs_rs']/text()\")).replace('\\n','')\n",
    "        #################################################################################\n",
    "        reference = ''.join(element.xpath(\"div[@class='gs_a']/text()\"))\n",
    "        #################################################################################\n",
    "        try:\n",
    "            year = re.search(r\"\\d{4}\", reference)[0]\n",
    "        except:\n",
    "            year = \"\"\n",
    "        #################################################################################   \n",
    "        df = df.append({'year':year,'title':title,'abstract':abstract,'reference':reference,'link':link},ignore_index=True)\n",
    "    #################################################################################   \n",
    "    print(\"sleeping...\")\n",
    "    sleep(randint(6,18))\n",
    "    #################################################################################   \n",
    "    page = page + 1       "
   ]
  },
  {
   "cell_type": "markdown",
   "metadata": {},
   "source": [
    "## Exporting the output to a csv file"
   ]
  },
  {
   "cell_type": "code",
   "execution_count": null,
   "metadata": {},
   "outputs": [],
   "source": [
    "df.to_csv('honeypot_googlescholar_query_honeypot_20190722.csv')"
   ]
  },
  {
   "cell_type": "markdown",
   "metadata": {},
   "source": [
    "<h1 align='center'> !!!!!!!!!!!!!!!!!!!!!!!!!!!!!!!!!!!!!!!!!!!!!!!!!!!!!!!!!!!!!!!!!!!!!!!!!!!!!!!!!!<br>OFFLINE ANALYSIS STARTS HERE</h1>"
   ]
  },
  {
   "cell_type": "code",
   "execution_count": 1,
   "metadata": {},
   "outputs": [],
   "source": [
    "import pandas as pd\n",
    "pd.options.display.max_colwidth = 100\n",
    "from urllib.parse import urlparse"
   ]
  },
  {
   "cell_type": "code",
   "execution_count": 2,
   "metadata": {},
   "outputs": [
    {
     "data": {
      "text/html": [
       "<div>\n",
       "<style scoped>\n",
       "    .dataframe tbody tr th:only-of-type {\n",
       "        vertical-align: middle;\n",
       "    }\n",
       "\n",
       "    .dataframe tbody tr th {\n",
       "        vertical-align: top;\n",
       "    }\n",
       "\n",
       "    .dataframe thead th {\n",
       "        text-align: right;\n",
       "    }\n",
       "</style>\n",
       "<table border=\"1\" class=\"dataframe\">\n",
       "  <thead>\n",
       "    <tr style=\"text-align: right;\">\n",
       "      <th></th>\n",
       "      <th>abstract</th>\n",
       "      <th>link</th>\n",
       "      <th>reference</th>\n",
       "      <th>title</th>\n",
       "      <th>year</th>\n",
       "    </tr>\n",
       "  </thead>\n",
       "  <tbody>\n",
       "    <tr>\n",
       "      <th>0</th>\n",
       "      <td>A is a closely monitored network decoy serving several purposes: it can distract adversaries fro...</td>\n",
       "      <td>https://www.usenix.org/event/sec04/tech/full_papers/provos/provos_html</td>\n",
       "      <td>- USENIX Security Symposium, 2004 - usenix.org</td>\n",
       "      <td>A Virtual honeypot Framework.</td>\n",
       "      <td>2004</td>\n",
       "    </tr>\n",
       "    <tr>\n",
       "      <th>1</th>\n",
       "      <td>Spammers continually scan the Internet for open proxy relays: by using these open relays, they c...</td>\n",
       "      <td>https://ieeexplore.ieee.org/abstract/document/1264861/</td>\n",
       "      <td>N Krawetz - IEEE Security &amp; Privacy, 2004 - ieeexplore.ieee.org</td>\n",
       "      <td>Anti-honeypot technology</td>\n",
       "      <td>2004</td>\n",
       "    </tr>\n",
       "    <tr>\n",
       "      <th>2</th>\n",
       "      <td>Honeypots are closely monitored network decoys serving several purposes: they can distract adver...</td>\n",
       "      <td>https://www.researchgate.net/profile/Niels_Provos/publication/250395424_Honeyd_A_Virtual_Honeypo...</td>\n",
       "      <td>- 10th DFN-CERT Workshop, Hamburg, Germany, 2003 - researchgate.net</td>\n",
       "      <td>Honeyd-a virtual honeypot daemon</td>\n",
       "      <td>2003</td>\n",
       "    </tr>\n",
       "    <tr>\n",
       "      <th>3</th>\n",
       "      <td>The number of client-side attacks has grown significantly in the past few years, shifting focus ...</td>\n",
       "      <td>https://www.usenix.org/legacy/event/leet09/tech/full_papers/nazario/nazario.pdf</td>\n",
       "      <td>- LEET, 2009 - usenix.org</td>\n",
       "      <td>PhoneyC: A Virtual Client honeypot .</td>\n",
       "      <td>2009</td>\n",
       "    </tr>\n",
       "    <tr>\n",
       "      <th>4</th>\n",
       "      <td>Some attacks on honeypots are very frequent and repetitive. In addition, such repetitive attacks...</td>\n",
       "      <td>ftp://ftp.mirror.ac.za/www.honeynet.org/papers/individual/AusCERT_fullpaper_BIS.pdf</td>\n",
       "      <td>F Pouget,  - AusCERT Asia Pacific Information Technology …, 2004 - mirror.ac.za</td>\n",
       "      <td>-based forensics</td>\n",
       "      <td>2004</td>\n",
       "    </tr>\n",
       "  </tbody>\n",
       "</table>\n",
       "</div>"
      ],
      "text/plain": [
       "                                                                                              abstract  \\\n",
       "0  A is a closely monitored network decoy serving several purposes: it can distract adversaries fro...   \n",
       "1  Spammers continually scan the Internet for open proxy relays: by using these open relays, they c...   \n",
       "2  Honeypots are closely monitored network decoys serving several purposes: they can distract adver...   \n",
       "3  The number of client-side attacks has grown significantly in the past few years, shifting focus ...   \n",
       "4  Some attacks on honeypots are very frequent and repetitive. In addition, such repetitive attacks...   \n",
       "\n",
       "                                                                                                  link  \\\n",
       "0                               https://www.usenix.org/event/sec04/tech/full_papers/provos/provos_html   \n",
       "1                                               https://ieeexplore.ieee.org/abstract/document/1264861/   \n",
       "2  https://www.researchgate.net/profile/Niels_Provos/publication/250395424_Honeyd_A_Virtual_Honeypo...   \n",
       "3                      https://www.usenix.org/legacy/event/leet09/tech/full_papers/nazario/nazario.pdf   \n",
       "4                  ftp://ftp.mirror.ac.za/www.honeynet.org/papers/individual/AusCERT_fullpaper_BIS.pdf   \n",
       "\n",
       "                                                                         reference  \\\n",
       "0                                   - USENIX Security Symposium, 2004 - usenix.org   \n",
       "1                  N Krawetz - IEEE Security & Privacy, 2004 - ieeexplore.ieee.org   \n",
       "2              - 10th DFN-CERT Workshop, Hamburg, Germany, 2003 - researchgate.net   \n",
       "3                                                        - LEET, 2009 - usenix.org   \n",
       "4  F Pouget,  - AusCERT Asia Pacific Information Technology …, 2004 - mirror.ac.za   \n",
       "\n",
       "                                  title  year  \n",
       "0         A Virtual honeypot Framework.  2004  \n",
       "1              Anti-honeypot technology  2004  \n",
       "2      Honeyd-a virtual honeypot daemon  2003  \n",
       "3  PhoneyC: A Virtual Client honeypot .  2009  \n",
       "4                      -based forensics  2004  "
      ]
     },
     "execution_count": 2,
     "metadata": {},
     "output_type": "execute_result"
    }
   ],
   "source": [
    "#Reading again the file in case it is a offline analysis\n",
    "df = pd.read_csv('honeypot_googlescholar_query_honeypot_20190722.csv',index_col=0).dropna()\n",
    "df.head()"
   ]
  },
  {
   "cell_type": "code",
   "execution_count": 3,
   "metadata": {},
   "outputs": [
    {
     "name": "stdout",
     "output_type": "stream",
     "text": [
      "TOTAL ENTRIES: 393\n"
     ]
    }
   ],
   "source": [
    "print(\"TOTAL ENTRIES:\",len(df))"
   ]
  },
  {
   "cell_type": "markdown",
   "metadata": {},
   "source": [
    "## Distribution of source of academic papers (digital libraries)!"
   ]
  },
  {
   "cell_type": "code",
   "execution_count": 9,
   "metadata": {},
   "outputs": [
    {
     "data": {
      "text/html": [
       "<div>\n",
       "<style scoped>\n",
       "    .dataframe tbody tr th:only-of-type {\n",
       "        vertical-align: middle;\n",
       "    }\n",
       "\n",
       "    .dataframe tbody tr th {\n",
       "        vertical-align: top;\n",
       "    }\n",
       "\n",
       "    .dataframe thead th {\n",
       "        text-align: right;\n",
       "    }\n",
       "</style>\n",
       "<table border=\"1\" class=\"dataframe\">\n",
       "  <thead>\n",
       "    <tr style=\"text-align: right;\">\n",
       "      <th></th>\n",
       "      <th>counts</th>\n",
       "      <th>percentage</th>\n",
       "    </tr>\n",
       "  </thead>\n",
       "  <tbody>\n",
       "    <tr>\n",
       "      <th>ieeexplore.ieee.org</th>\n",
       "      <td>141</td>\n",
       "      <td>35.877863</td>\n",
       "    </tr>\n",
       "    <tr>\n",
       "      <th>link.springer.com</th>\n",
       "      <td>38</td>\n",
       "      <td>9.669211</td>\n",
       "    </tr>\n",
       "    <tr>\n",
       "      <th>en.cnki.com.cn</th>\n",
       "      <td>22</td>\n",
       "      <td>5.597964</td>\n",
       "    </tr>\n",
       "    <tr>\n",
       "      <th>pdfs.semanticscholar.org</th>\n",
       "      <td>21</td>\n",
       "      <td>5.343511</td>\n",
       "    </tr>\n",
       "    <tr>\n",
       "      <th>patents.google.com</th>\n",
       "      <td>20</td>\n",
       "      <td>5.089059</td>\n",
       "    </tr>\n",
       "  </tbody>\n",
       "</table>\n",
       "</div>"
      ],
      "text/plain": [
       "                          counts  percentage\n",
       "ieeexplore.ieee.org          141   35.877863\n",
       "link.springer.com             38    9.669211\n",
       "en.cnki.com.cn                22    5.597964\n",
       "pdfs.semanticscholar.org      21    5.343511\n",
       "patents.google.com            20    5.089059"
      ]
     },
     "execution_count": 9,
     "metadata": {},
     "output_type": "execute_result"
    }
   ],
   "source": [
    "digital_libraries_distribution.head()"
   ]
  },
  {
   "cell_type": "code",
   "execution_count": 5,
   "metadata": {},
   "outputs": [
    {
     "name": "stdout",
     "output_type": "stream",
     "text": [
      "Distinct Source of Information: 74\n",
      "\n",
      "Frequency of Source of Information:\n",
      "                                       counts  percentage\n",
      "ieeexplore.ieee.org                       141   35.877863\n",
      "link.springer.com                          38    9.669211\n",
      "en.cnki.com.cn                             22    5.597964\n",
      "pdfs.semanticscholar.org                   21    5.343511\n",
      "patents.google.com                         20    5.089059\n",
      "dl.acm.org                                 17    4.325700\n",
      "citeseerx.ist.psu.edu                      15    3.816794\n",
      "sciencedirect.com                           9    2.290076\n",
      "researchgate.net                            9    2.290076\n",
      "ro.ecu.edu.au                               5    1.272265\n",
      "academia.edu                                5    1.272265\n",
      "usenix.org                                  5    1.272265\n",
      "cqvip.com                                   5    1.272265\n",
      "onlinelibrary.wiley.com                     5    1.272265\n",
      "tandfonline.com                             4    1.017812\n",
      "arxiv.org                                   4    1.017812\n",
      "pdiconnect.com                              3    0.763359\n",
      "search.ieice.org                            3    0.763359\n",
      "mecs-press.net                              2    0.508906\n",
      "infosecwriters.com                          2    0.508906\n",
      "books.google.nl                             2    0.508906\n",
      "apps.dtic.mil                               2    0.508906\n",
      "eurecom.fr                                  2    0.508906\n",
      "spiedigitallibrary.org                      2    0.508906\n",
      "aaai.org                                    1    0.254453\n",
      "ftp.mirror.ac.za                            1    0.254453\n",
      "ir.library.louisville.edu                   1    0.254453\n",
      "go.galegroup.com                            1    0.254453\n",
      "epa.niif.hu                                 1    0.254453\n",
      "mulliner.org                                1    0.254453\n",
      "...                                       ...         ...\n",
      "cabdirect.org                               1    0.254453\n",
      "ijcna.org                                   1    0.254453\n",
      "cai.sk                                      1    0.254453\n",
      "yadda.icm.edu.pl                            1    0.254453\n",
      "ebooks.asmedigitalcollection.asme.org       1    0.254453\n",
      "neliti.com                                  1    0.254453\n",
      "ntnuopen.ntnu.no                            1    0.254453\n",
      "mdpi.com                                    1    0.254453\n",
      "scss.tcd.ie                                 1    0.254453\n",
      "ftp.unpad.ac.id                             1    0.254453\n",
      "c-mric.com                                  1    0.254453\n",
      "pe.org.pl                                   1    0.254453\n",
      "paper.seebug.org                            1    0.254453\n",
      "hg.mirror.ac.za                             1    0.254453\n",
      "eprints.qut.edu.au                          1    0.254453\n",
      "commons.erau.edu                            1    0.254453\n",
      "1is.us                                      1    0.254453\n",
      "journals.uchicago.edu                       1    0.254453\n",
      "soc.napier.ac.uk                            1    0.254453\n",
      "iopscience.iop.org                          1    0.254453\n",
      "airitilibrary.com                           1    0.254453\n",
      "infona.pl                                   1    0.254453\n",
      "130.83.177.135                              1    0.254453\n",
      "drum.lib.umd.edu                            1    0.254453\n",
      "eprints.um.edu.my                           1    0.254453\n",
      "krishisanskriti.org                         1    0.254453\n",
      "wseas.us                                    1    0.254453\n",
      "docsdrive.com                               1    0.254453\n",
      "cyberleninka.ru                             1    0.254453\n",
      "repositorio.unb.br                          1    0.254453\n",
      "\n",
      "[74 rows x 2 columns]\n"
     ]
    }
   ],
   "source": [
    "digital_libraries = df['link'].dropna().apply(lambda x: urlparse(x)[1].replace(\"www.\",\"\"))\n",
    "\n",
    "digital_libraries_distribution = pd.concat([digital_libraries.value_counts(), \n",
    "                                            digital_libraries.value_counts(normalize=True).mul(100)],axis=1, keys=('counts','percentage'))\n",
    "\n",
    "print(\"Distinct Source of Information:\",len(digital_libraries_distribution))\n",
    "print()\n",
    "print(\"Frequency of Source of Information:\")\n",
    "print(digital_libraries_distribution)"
   ]
  },
  {
   "cell_type": "markdown",
   "metadata": {},
   "source": [
    "The most important source of information are: \n",
    "- ieeexplore.ieee.org\n",
    "- dl.acm.org\n",
    "- link.springer.com\n",
    "- pdfs.semanticscholar.org\n",
    "- sciencedirect.com\n",
    "- researchgate.net\n",
    "\n",
    "Of course the RFCs of IETF are also very important:\n",
    "- rfc-editor.org \n",
    "- tools.ietf.org\n",
    "- datatracker.ietf.org"
   ]
  },
  {
   "cell_type": "markdown",
   "metadata": {},
   "source": [
    "## Exporting information to csv files based on the source of information"
   ]
  },
  {
   "cell_type": "markdown",
   "metadata": {},
   "source": [
    "## Crawling abstracts from IEEE"
   ]
  },
  {
   "cell_type": "code",
   "execution_count": null,
   "metadata": {},
   "outputs": [],
   "source": [
    "df[df['link'].str.contains(\"ieeexplore.ieee.org\")].to_csv(\"honeypot_ieee.csv\")"
   ]
  },
  {
   "cell_type": "code",
   "execution_count": null,
   "metadata": {
    "scrolled": false
   },
   "outputs": [],
   "source": [
    "for link in df[df['link'].str.contains(\"ieeexplore.ieee.org\")]['link']:\n",
    "    print(link)\n",
    "    #################################################################################\n",
    "    scraper = cfscrape.create_scraper()\n",
    "    scraped_html=scraper.get(link,headers=header).content\n",
    "    # print(scraped_html.decode(\"utf-8\") )\n",
    "    html = etree.HTML(scraped_html)\n",
    "    #################################################################################    \n",
    "    elements = html.xpath(\"//script[@type='text/javascript']/text()\")\n",
    "    abstract = elements[2].split('\"abstract\":\"')[2].split('\",\"')[0]\n",
    "    print(abstract)  "
   ]
  },
  {
   "cell_type": "code",
   "execution_count": null,
   "metadata": {},
   "outputs": [],
   "source": [
    "df[df['link'].str.contains(\"link.springer.com\")].to_csv(\"flowspec_springer.csv\")"
   ]
  },
  {
   "cell_type": "code",
   "execution_count": null,
   "metadata": {},
   "outputs": [],
   "source": [
    "df[df['link'].str.contains(\"dl.acm.org\")].to_csv(\"flowspec_acm.csv\")"
   ]
  },
  {
   "cell_type": "markdown",
   "metadata": {},
   "source": [
    "## Lessons learned:\n",
    "- remove papers that have in the title or description/abstract the list of words: [rsvp, qos, quality of service, mpls, intserv, diffserv, multicast]"
   ]
  }
 ],
 "metadata": {
  "kernelspec": {
   "display_name": "Python 3",
   "language": "python",
   "name": "python3"
  },
  "language_info": {
   "codemirror_mode": {
    "name": "ipython",
    "version": 3
   },
   "file_extension": ".py",
   "mimetype": "text/x-python",
   "name": "python",
   "nbconvert_exporter": "python",
   "pygments_lexer": "ipython3",
   "version": "3.7.0"
  }
 },
 "nbformat": 4,
 "nbformat_minor": 2
}
